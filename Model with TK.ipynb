{
 "cells": [
  {
   "cell_type": "code",
   "execution_count": 14,
   "metadata": {},
   "outputs": [],
   "source": [
    "import tensorflow as tf\n",
    "from sklearn.model_selection import train_test_split\n",
    "import matplotlib.pyplot as plt\n",
    "import joblib\n",
    "\n"
   ]
  },
  {
   "cell_type": "code",
   "execution_count": 15,
   "metadata": {},
   "outputs": [
    {
     "name": "stdout",
     "output_type": "stream",
     "text": [
      "Taille de l'ensemble d'entraînement: (42000, 28, 28)\n",
      "Taille de l'ensemble de validation: (18000, 28, 28)\n",
      "Taille de l'ensemble de test: (10000, 28, 28)\n"
     ]
    }
   ],
   "source": [
    "# Chargement des données MNIST\n",
    "mnist = tf.keras.datasets.mnist\n",
    "\n",
    "(x_train, y_train), (x_test, y_test) = mnist.load_data()\n",
    "\n",
    "# Data preprocessing: Normalisation des images à un intervalle de 0-1\n",
    "x_train, x_test = x_train / 255.0, x_test / 255.0\n",
    "\n",
    "# Diviser le jeu de données en ensembles d'entraînement et de test (70% - 30%)\n",
    "x_train, x_val, y_train, y_val = train_test_split(x_train, y_train, test_size=0.3, random_state=42)\n",
    "\n",
    "print(f'Taille de l\\'ensemble d\\'entraînement: {x_train.shape}')\n",
    "print(f'Taille de l\\'ensemble de validation: {x_val.shape}')\n",
    "print(f'Taille de l\\'ensemble de test: {x_test.shape}')\n"
   ]
  },
  {
   "cell_type": "markdown",
   "metadata": {},
   "source": [
    "Montrer les 9 premières images du training dataset et leurs labels en tant que titres:\n"
   ]
  },
  {
   "cell_type": "code",
   "execution_count": 16,
   "metadata": {},
   "outputs": [
    {
     "data": {
      "image/png": "[encoded data removed]",
      "text/plain": [
       "<Figure size 640x480 with 9 Axes>"
      ]
     },
     "metadata": {},
     "output_type": "display_data"
    }
   ],
   "source": [
    "for i in range(0, 9, 3):\n",
    "    for j in range(3):\n",
    "        plt.subplot(3, 3, i + j + 1)\n",
    "        plt.axis('off')\n",
    "        plt.imshow(x_train[i + j], cmap='gray')\n",
    "        plt.title(y_train[i + j].item())\n",
    "plt.show()\n"
   ]
  },
  {
   "cell_type": "code",
   "execution_count": 17,
   "metadata": {},
   "outputs": [
    {
     "name": "stdout",
     "output_type": "stream",
     "text": [
      "Rapport de classification pour SVM:\n",
      "               precision    recall  f1-score   support\n",
      "\n",
      "           0       0.95      0.98      0.96       980\n",
      "           1       0.97      0.98      0.98      1135\n",
      "           2       0.92      0.93      0.92      1032\n",
      "           3       0.91      0.92      0.92      1010\n",
      "           4       0.94      0.96      0.95       982\n",
      "           5       0.91      0.90      0.90       892\n",
      "           6       0.96      0.95      0.96       958\n",
      "           7       0.95      0.93      0.94      1028\n",
      "           8       0.92      0.90      0.91       974\n",
      "           9       0.94      0.91      0.93      1009\n",
      "\n",
      "    accuracy                           0.94     10000\n",
      "   macro avg       0.94      0.94      0.94     10000\n",
      "weighted avg       0.94      0.94      0.94     10000\n",
      "\n",
      "Précision pour SVM: 0.9377\n"
     ]
    }
   ],
   "source": [
    "from sklearn import svm\n",
    "from sklearn.metrics import classification_report, accuracy_score\n",
    "\n",
    "# Aplatir les images pour SVM\n",
    "x_train_flat = x_train.reshape(-1, 28*28)\n",
    "x_val_flat = x_val.reshape(-1, 28*28)\n",
    "x_test_flat = x_test.reshape(-1, 28*28)\n",
    "\n",
    "# Créer un modèle SVM linéaire et l'entrainer \n",
    "svm_l = svm.SVC(kernel='linear')\n",
    "svm_l.fit(x_train_flat, y_train)\n",
    "\n",
    "# Prédire les résultats pour les données du test\n",
    "y_pred_svm = svm_l.predict(x_test_flat)\n",
    "print(\"Rapport de classification pour SVM:\\n\", classification_report(y_test, y_pred_svm))\n",
    "print(\"Précision pour SVM:\", accuracy_score(y_test, y_pred_svm))\n"
   ]
  },
  {
   "cell_type": "code",
   "execution_count": 18,
   "metadata": {},
   "outputs": [
    {
     "name": "stdout",
     "output_type": "stream",
     "text": [
      "Rapport de classification pour SVM:\n",
      "               precision    recall  f1-score   support\n",
      "\n",
      "           0       0.98      0.99      0.98       980\n",
      "           1       0.97      0.99      0.98      1135\n",
      "           2       0.97      0.97      0.97      1032\n",
      "           3       0.97      0.97      0.97      1010\n",
      "           4       0.97      0.98      0.98       982\n",
      "           5       0.97      0.97      0.97       892\n",
      "           6       0.98      0.97      0.98       958\n",
      "           7       0.97      0.96      0.97      1028\n",
      "           8       0.97      0.97      0.97       974\n",
      "           9       0.98      0.96      0.97      1009\n",
      "\n",
      "    accuracy                           0.97     10000\n",
      "   macro avg       0.97      0.97      0.97     10000\n",
      "weighted avg       0.97      0.97      0.97     10000\n",
      "\n",
      "Précision pour SVM: 0.9741\n"
     ]
    }
   ],
   "source": [
    "\n",
    "\n",
    "# Créer un modèle SVM linéaire avec un noyau polynomial\n",
    "svm_p = svm.SVC(kernel='poly', degree=3)\n",
    "svm_p.fit(x_train_flat, y_train)\n",
    "\n",
    "# Prédire les résultats pour les données du test\n",
    "y_pred_svm = svm_p.predict(x_test_flat)\n",
    "print(\"Rapport de classification pour SVM:\\n\", classification_report(y_test, y_pred_svm))\n",
    "print(\"Précision pour SVM:\", accuracy_score(y_test, y_pred_svm))"
   ]
  },
  {
   "cell_type": "code",
   "execution_count": 19,
   "metadata": {},
   "outputs": [
    {
     "name": "stdout",
     "output_type": "stream",
     "text": [
      "Rapport de classification pour k-NN:\n",
      "               precision    recall  f1-score   support\n",
      "\n",
      "           0       0.97      0.99      0.98       980\n",
      "           1       0.95      1.00      0.97      1135\n",
      "           2       0.98      0.96      0.97      1032\n",
      "           3       0.96      0.96      0.96      1010\n",
      "           4       0.97      0.97      0.97       982\n",
      "           5       0.96      0.97      0.97       892\n",
      "           6       0.98      0.98      0.98       958\n",
      "           7       0.96      0.96      0.96      1028\n",
      "           8       0.98      0.92      0.95       974\n",
      "           9       0.96      0.95      0.95      1009\n",
      "\n",
      "    accuracy                           0.97     10000\n",
      "   macro avg       0.97      0.97      0.97     10000\n",
      "weighted avg       0.97      0.97      0.97     10000\n",
      "\n",
      "Précision pour k-NN: 0.9672\n"
     ]
    }
   ],
   "source": [
    "from sklearn.neighbors import KNeighborsClassifier\n",
    "\n",
    "# Entraîner un classificateur k-NN\n",
    "knn_clf = KNeighborsClassifier(n_neighbors=3)\n",
    "knn_clf.fit(x_train_flat, y_train)\n",
    "\n",
    "# Prédiction et évaluation\n",
    "y_pred_knn = knn_clf.predict(x_test_flat)\n",
    "print(\"Rapport de classification pour k-NN:\\n\", classification_report(y_test, y_pred_knn))\n",
    "print(\"Précision pour k-NN:\", accuracy_score(y_test, y_pred_knn))\n"
   ]
  },
  {
   "cell_type": "code",
   "execution_count": 20,
   "metadata": {},
   "outputs": [
    {
     "data": {
      "text/plain": [
       "['svm_model.pkl']"
      ]
     },
     "execution_count": 20,
     "metadata": {},
     "output_type": "execute_result"
    },
    {
     "ename": "",
     "evalue": "",
     "output_type": "error",
     "traceback": [
      "\u001b[1;31mThe Kernel crashed while executing code in the current cell or a previous cell. \n",
      "\u001b[1;31mPlease review the code in the cell(s) to identify a possible cause of the failure. \n",
      "\u001b[1;31mClick <a href='https://aka.ms/vscodeJupyterKernelCrash'>here</a> for more info. \n",
      "\u001b[1;31mView Jupyter <a href='command:jupyter.viewOutput'>log</a> for further details."
     ]
    }
   ],
   "source": [
    "import tkinter as tk\n",
    "from tkinter import filedialog\n",
    "from PIL import Image, ImageTk\n",
    "import numpy as np\n",
    "\n",
    "# Charger un modèle pré-entraîné (par exemple, SVM)\n",
    "model = svm_p\n",
    "\n",
    "# Fonction de prédiction\n",
    "def predict_image(img_path):\n",
    "    img = Image.open(img_path).convert('L').resize((28, 28))\n",
    "    img_array = np.array(img).reshape(1, 28*28) / 255.0\n",
    "    prediction = model.predict(img_array)\n",
    "    return prediction[0]\n",
    "\n",
    "# Interface utilisateur\n",
    "def load_image():\n",
    "    file_path = filedialog.askopenfilename()\n",
    "    if file_path:\n",
    "        img = Image.open(file_path)\n",
    "        img = img.resize((200, 200))\n",
    "        img_tk = ImageTk.PhotoImage(img)\n",
    "        panel.config(image=img_tk)\n",
    "        panel.image = img_tk\n",
    "        \n",
    "        # Prédire l'image chargée\n",
    "        prediction = predict_image(file_path)\n",
    "        label.config(text=f'Prédiction: {prediction}')\n",
    "\n",
    "root = tk.Tk()\n",
    "root.title(\"Classification d'Images\")\n",
    "\n",
    "panel = tk.Label(root)\n",
    "panel.pack()\n",
    "\n",
    "btn = tk.Button(root, text=\"Charger une image\", command=load_image)\n",
    "btn.pack()\n",
    "\n",
    "label = tk.Label(root, text=\"Prédiction: \")\n",
    "label.pack()\n",
    "\n",
    "root.mainloop()\n",
    "joblib.dump(model, 'svm_model.pkl')\n"
   ]
  },
  {
   "cell_type": "code",
   "execution_count": null,
   "metadata": {},
   "outputs": [],
   "source": []
  }
 ],
 "metadata": {
  "kernelspec": {
   "display_name": "Python 3",
   "language": "python",
   "name": "python3"
  },
  "language_info": {
   "codemirror_mode": {
    "name": "ipython",
    "version": 3
   },
   "file_extension": ".py",
   "mimetype": "text/x-python",
   "name": "python",
   "nbconvert_exporter": "python",
   "pygments_lexer": "ipython3",
   "version": "3.11.7"
  }
 },
 "nbformat": 4,
 "nbformat_minor": 2
}
